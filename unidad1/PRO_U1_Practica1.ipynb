{
  "nbformat": 4,
  "nbformat_minor": 0,
  "metadata": {
    "colab": {
      "provenance": []
    },
    "kernelspec": {
      "name": "python3",
      "display_name": "Python 3"
    },
    "language_info": {
      "name": "python"
    }
  },
  "cells": [
    {
      "cell_type": "markdown",
      "source": [
        "#Probabilidad y Estadística\n",
        "### Facilitador: José Gabriel Rodríguez Rivas\n",
        "### Alumno: Ángel Michel González Ramírez"
      ],
      "metadata": {
        "id": "_FeO03_DBSTb"
      }
    },
    {
      "cell_type": "code",
      "execution_count": null,
      "metadata": {
        "id": "F2qfWgvNhlOQ"
      },
      "outputs": [],
      "source": [
        "from statistics import*"
      ]
    },
    {
      "cell_type": "code",
      "source": [
        "#Lista de calificaciones de probabilidad del grupo a:\n",
        "grupoa=[70,70,65,90,100,95,45,80,73,55,100,93]\n",
        "print(grupoa)"
      ],
      "metadata": {
        "colab": {
          "base_uri": "https://localhost:8080/"
        },
        "id": "EGi_IBDbkr4x",
        "outputId": "2ec881f4-2f33-4f79-a13c-4243aac0e817"
      },
      "execution_count": null,
      "outputs": [
        {
          "output_type": "stream",
          "name": "stdout",
          "text": [
            "[70, 70, 65, 90, 100, 95, 45, 80, 73, 55, 100, 93]\n"
          ]
        }
      ]
    },
    {
      "cell_type": "code",
      "source": [
        "#La función type nos devuelve el tipo de dato de la variable:\n",
        "type(grupoa)"
      ],
      "metadata": {
        "colab": {
          "base_uri": "https://localhost:8080/"
        },
        "id": "iX78mCez4NOw",
        "outputId": "d814ecaf-0b03-4b15-b8c3-b9d7063e3868"
      },
      "execution_count": null,
      "outputs": [
        {
          "output_type": "execute_result",
          "data": {
            "text/plain": [
              "list"
            ]
          },
          "metadata": {},
          "execution_count": 4
        }
      ]
    },
    {
      "cell_type": "code",
      "source": [
        "#Sacar la media con una formula:\n",
        "prom=sum(grupoa)/len(grupoa)\n",
        "print(prom)"
      ],
      "metadata": {
        "colab": {
          "base_uri": "https://localhost:8080/"
        },
        "id": "WAULno2Ck-7l",
        "outputId": "c3950f6d-f056-401f-97bb-959c08b574cd"
      },
      "execution_count": null,
      "outputs": [
        {
          "output_type": "stream",
          "name": "stdout",
          "text": [
            "78.0\n"
          ]
        }
      ]
    },
    {
      "cell_type": "code",
      "source": [
        "#Utilizar la función mean que esta en la librería statistics para sacar el promedio:\n",
        "prom2=mean(grupoa)\n",
        "print(prom2)"
      ],
      "metadata": {
        "colab": {
          "base_uri": "https://localhost:8080/"
        },
        "id": "0-ipy-sTmCdD",
        "outputId": "b7e83453-a237-40b0-f6bb-d107059b82f4"
      },
      "execution_count": null,
      "outputs": [
        {
          "output_type": "stream",
          "name": "stdout",
          "text": [
            "78\n"
          ]
        }
      ]
    },
    {
      "cell_type": "code",
      "source": [
        "#Determinar el valor de la mediana\n",
        "mediana=median(grupoa)\n",
        "print(mediana)"
      ],
      "metadata": {
        "colab": {
          "base_uri": "https://localhost:8080/"
        },
        "id": "CzAEuGOS3hRh",
        "outputId": "cf56acf7-aecb-454b-ee4b-3a9f94e7ba93"
      },
      "execution_count": null,
      "outputs": [
        {
          "output_type": "stream",
          "name": "stdout",
          "text": [
            "76.5\n"
          ]
        }
      ]
    },
    {
      "cell_type": "code",
      "source": [
        "tiempos100mts=[15.10,17.20,14.69,13.27,22.15,18.71,19.15,20.65,15.10,17.20]\n",
        "print(tiempos100mts)"
      ],
      "metadata": {
        "colab": {
          "base_uri": "https://localhost:8080/"
        },
        "id": "-SYcc-Lr4aNC",
        "outputId": "40160c26-f6a6-45aa-d48a-996b63f78f77"
      },
      "execution_count": null,
      "outputs": [
        {
          "output_type": "stream",
          "name": "stdout",
          "text": [
            "[15.1, 17.2, 14.69, 13.27, 22.15, 18.71, 19.15, 20.65, 15.1, 17.2]\n"
          ]
        }
      ]
    },
    {
      "cell_type": "code",
      "source": [
        "#Podemos poner al lado el metodo mean, o hacer uso de una variable como en el bloque siguiente.\n",
        "print(\"El tiempo promedio de los corredores es:\", mean(tiempos100mts))"
      ],
      "metadata": {
        "colab": {
          "base_uri": "https://localhost:8080/"
        },
        "id": "t_h8az_X5MiU",
        "outputId": "43930a28-3ec7-4880-bb27-3bf38a8c6a4c"
      },
      "execution_count": null,
      "outputs": [
        {
          "output_type": "stream",
          "name": "stdout",
          "text": [
            "El tiempo promedio de los corredores es: 17.322\n"
          ]
        }
      ]
    },
    {
      "cell_type": "code",
      "source": [
        "#Aquí hicimos uso de una variable.\n",
        "mediana=median(tiempos100mts)\n",
        "print(\"La mediana de los tiempos de los corredores es:\",mediana)"
      ],
      "metadata": {
        "colab": {
          "base_uri": "https://localhost:8080/"
        },
        "id": "NuqF8hug5iXI",
        "outputId": "31927fab-87ba-4b85-f3ea-d379ede161bf"
      },
      "execution_count": null,
      "outputs": [
        {
          "output_type": "stream",
          "name": "stdout",
          "text": [
            "La mediana de los tiempos de los corredores es: 17.2\n"
          ]
        }
      ]
    },
    {
      "cell_type": "code",
      "source": [
        "#Para usar la moda:\n",
        "moda=mode(tiempos100mts)\n",
        "print(\"La moda de los tiempos es:\",moda)"
      ],
      "metadata": {
        "colab": {
          "base_uri": "https://localhost:8080/"
        },
        "id": "RzeYTHmB6C92",
        "outputId": "2088ad6f-33e2-4d1c-aa07-196c1cf567da"
      },
      "execution_count": null,
      "outputs": [
        {
          "output_type": "stream",
          "name": "stdout",
          "text": [
            "La moda de los tiempos es: 15.1\n"
          ]
        }
      ]
    },
    {
      "cell_type": "code",
      "source": [
        "#En caso de tener varias modas, osea el numero que más veces se repitió:\n",
        "multimodas=multimode(tiempos100mts)\n",
        "print(\"La moda de los tiempos es:\",multimodas)"
      ],
      "metadata": {
        "colab": {
          "base_uri": "https://localhost:8080/"
        },
        "id": "ulPSlRzX6bU2",
        "outputId": "7261128d-8f85-4b5f-edd3-9806fda035cc"
      },
      "execution_count": null,
      "outputs": [
        {
          "output_type": "stream",
          "name": "stdout",
          "text": [
            "La moda de los tiempos es: [15.1, 17.2]\n"
          ]
        }
      ]
    }
  ]
}