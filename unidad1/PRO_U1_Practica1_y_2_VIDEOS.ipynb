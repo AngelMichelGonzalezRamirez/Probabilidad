{
  "nbformat": 4,
  "nbformat_minor": 0,
  "metadata": {
    "colab": {
      "provenance": []
    },
    "kernelspec": {
      "name": "python3",
      "display_name": "Python 3"
    },
    "language_info": {
      "name": "python"
    }
  },
  "cells": [
    {
      "cell_type": "markdown",
      "source": [
        "#Probabilidad y Estadística\n",
        "### Facilitador: José Gabriel Rodríguez Rivas\n",
        "### Alumno: Ángel Michel González Ramírez"
      ],
      "metadata": {
        "id": "_FeO03_DBSTb"
      }
    },
    {
      "cell_type": "code",
      "execution_count": 13,
      "metadata": {
        "id": "F2qfWgvNhlOQ"
      },
      "outputs": [],
      "source": [
        "from statistics import*"
      ]
    },
    {
      "cell_type": "code",
      "source": [
        "#Lista de calificaciones de probabilidad del grupo a:\n",
        "grupoa=[70,70,65,90,100,95,45,80,73,55,100,93]\n",
        "print(grupoa)"
      ],
      "metadata": {
        "colab": {
          "base_uri": "https://localhost:8080/"
        },
        "id": "EGi_IBDbkr4x",
        "outputId": "5bcf0296-d906-47fe-f9d9-5002bcbbd47f"
      },
      "execution_count": 2,
      "outputs": [
        {
          "output_type": "stream",
          "name": "stdout",
          "text": [
            "[70, 70, 65, 90, 100, 95, 45, 80, 73, 55, 100, 93]\n"
          ]
        }
      ]
    },
    {
      "cell_type": "code",
      "source": [
        "#La función type nos devuelve el tipo de dato de la variable:\n",
        "type(grupoa)"
      ],
      "metadata": {
        "colab": {
          "base_uri": "https://localhost:8080/"
        },
        "id": "iX78mCez4NOw",
        "outputId": "5669e6f9-d8bc-4b59-fc89-0c9b5bb06074"
      },
      "execution_count": 3,
      "outputs": [
        {
          "output_type": "execute_result",
          "data": {
            "text/plain": [
              "list"
            ]
          },
          "metadata": {},
          "execution_count": 3
        }
      ]
    },
    {
      "cell_type": "code",
      "source": [
        "#Sacar la media con una formula:\n",
        "prom=sum(grupoa)/len(grupoa)\n",
        "print(prom)"
      ],
      "metadata": {
        "colab": {
          "base_uri": "https://localhost:8080/"
        },
        "id": "WAULno2Ck-7l",
        "outputId": "24aa74a8-a3a6-4dd1-8a44-4371fd8613fd"
      },
      "execution_count": 4,
      "outputs": [
        {
          "output_type": "stream",
          "name": "stdout",
          "text": [
            "78.0\n"
          ]
        }
      ]
    },
    {
      "cell_type": "code",
      "source": [
        "#Utilizar la función mean que esta en la librería statistics para sacar el promedio:\n",
        "prom2=mean(grupoa)\n",
        "print(prom2)"
      ],
      "metadata": {
        "colab": {
          "base_uri": "https://localhost:8080/"
        },
        "id": "0-ipy-sTmCdD",
        "outputId": "d0d0a33b-f99e-4227-fb9a-9a6b93da5120"
      },
      "execution_count": 5,
      "outputs": [
        {
          "output_type": "stream",
          "name": "stdout",
          "text": [
            "78\n"
          ]
        }
      ]
    },
    {
      "cell_type": "code",
      "source": [
        "#Determinar el valor de la mediana\n",
        "mediana=median(grupoa)\n",
        "print(mediana)"
      ],
      "metadata": {
        "colab": {
          "base_uri": "https://localhost:8080/"
        },
        "id": "CzAEuGOS3hRh",
        "outputId": "a25fd634-3998-4d3d-e700-2338fe01e08e"
      },
      "execution_count": 14,
      "outputs": [
        {
          "output_type": "stream",
          "name": "stdout",
          "text": [
            "76.5\n"
          ]
        }
      ]
    },
    {
      "cell_type": "markdown",
      "source": [
        "##Ejemplo 2:"
      ],
      "metadata": {
        "id": "t1v0m-5GR8_j"
      }
    },
    {
      "cell_type": "code",
      "source": [
        "tiempos100mts=[15.10,17.20,14.69,13.27,22.15,18.71,19.15,20.65,15.10,17.20]\n",
        "print(tiempos100mts)"
      ],
      "metadata": {
        "colab": {
          "base_uri": "https://localhost:8080/"
        },
        "id": "-SYcc-Lr4aNC",
        "outputId": "c873b805-fff2-41d1-f45d-8d2b3b3e2fd6"
      },
      "execution_count": 7,
      "outputs": [
        {
          "output_type": "stream",
          "name": "stdout",
          "text": [
            "[15.1, 17.2, 14.69, 13.27, 22.15, 18.71, 19.15, 20.65, 15.1, 17.2]\n"
          ]
        }
      ]
    },
    {
      "cell_type": "code",
      "source": [
        "#Podemos poner al lado el metodo mean, o hacer uso de una variable como en el bloque siguiente.\n",
        "print(\"El tiempo promedio de los corredores es:\", mean(tiempos100mts))"
      ],
      "metadata": {
        "colab": {
          "base_uri": "https://localhost:8080/"
        },
        "id": "t_h8az_X5MiU",
        "outputId": "d1f7c8f5-53c2-4343-f928-e7fd972bc4b9"
      },
      "execution_count": 8,
      "outputs": [
        {
          "output_type": "stream",
          "name": "stdout",
          "text": [
            "El tiempo promedio de los corredores es: 17.322\n"
          ]
        }
      ]
    },
    {
      "cell_type": "code",
      "source": [
        "#Aquí hicimos uso de una variable.\n",
        "mediana=median(tiempos100mts)\n",
        "print(\"La mediana de los tiempos de los corredores es:\",mediana)"
      ],
      "metadata": {
        "colab": {
          "base_uri": "https://localhost:8080/"
        },
        "id": "NuqF8hug5iXI",
        "outputId": "347fb27d-bedb-481a-a708-bc7e93a98bb9"
      },
      "execution_count": 9,
      "outputs": [
        {
          "output_type": "stream",
          "name": "stdout",
          "text": [
            "La mediana de los tiempos de los corredores es: 17.2\n"
          ]
        }
      ]
    },
    {
      "cell_type": "code",
      "source": [
        "#Para usar la moda:\n",
        "moda=mode(tiempos100mts)\n",
        "print(\"La moda de los tiempos es:\",moda)"
      ],
      "metadata": {
        "colab": {
          "base_uri": "https://localhost:8080/"
        },
        "id": "RzeYTHmB6C92",
        "outputId": "50e315db-b8b5-4a0f-ec20-dd7669a27a6d"
      },
      "execution_count": 12,
      "outputs": [
        {
          "output_type": "stream",
          "name": "stdout",
          "text": [
            "La moda de los tiempos es: 15.1\n"
          ]
        }
      ]
    },
    {
      "cell_type": "code",
      "source": [
        "#En caso de tener varias modas, osea el numero que más veces se repitió:\n",
        "multimodas=multimode(tiempos100mts)\n",
        "print(\"La moda de los tiempos es:\",multimodas)"
      ],
      "metadata": {
        "colab": {
          "base_uri": "https://localhost:8080/"
        },
        "id": "ulPSlRzX6bU2",
        "outputId": "60b18ff8-c456-4952-e9a0-1c8cb54650ff"
      },
      "execution_count": 11,
      "outputs": [
        {
          "output_type": "stream",
          "name": "stdout",
          "text": [
            "La moda de los tiempos es: [15.1, 17.2]\n"
          ]
        }
      ]
    },
    {
      "cell_type": "markdown",
      "source": [
        "##Ejemplo 3: Histogramas de dos grupos.\n",
        "1. En este ejemplo generamos 100 numeros aleatorios reales que representa la producción diaria de 100 telares (medidas en metros).\n",
        "2. Generar otra lista con la producción de 100 telares para una segunda fábrica.\n",
        "3. Con estas lista de valores se pretende determinar las medidas de tendencia central, es decir, la media, la moda, la mediana, la desviación estandar.\n",
        "4. Graficar un histograma para cada fábrica.\n",
        "\n"
      ],
      "metadata": {
        "id": "e5mUmo6SSEsw"
      }
    },
    {
      "cell_type": "code",
      "source": [
        "#Librería para generar numeros aleatorios.\n",
        "import random"
      ],
      "metadata": {
        "id": "5d5UrTECSsSA"
      },
      "execution_count": 15,
      "outputs": []
    },
    {
      "cell_type": "code",
      "source": [
        "fabrica1= []\n",
        "for i in range(100):\n",
        "  numaleatorio= round(random.uniform (50,100),2)  #Round me redondeo los numeros a dos decimales, por eso el ,2.\n",
        "  fabrica1.append(numaleatorio)    #Con el método append, puedes agregar un elemento al final de una lista. Es como colocar un objeto al final de una fila.\n",
        "print(fabrica1)"
      ],
      "metadata": {
        "colab": {
          "base_uri": "https://localhost:8080/"
        },
        "id": "AG7cjRRsS38R",
        "outputId": "b5652a3b-2341-41ab-f295-20010ed2ebb7"
      },
      "execution_count": 18,
      "outputs": [
        {
          "output_type": "stream",
          "name": "stdout",
          "text": [
            "[91.48, 75.99, 55.27, 77.76, 98.29, 66.31, 64.79, 94.55, 71.84, 77.15, 90.16, 55.52, 72.83, 59.23, 69.32, 94.13, 66.22, 73.48, 57.5, 95.65, 64.0, 78.68, 99.7, 79.69, 90.57, 69.52, 66.84, 88.21, 53.92, 73.87, 91.87, 77.32, 60.65, 58.61, 53.2, 56.35, 51.29, 85.42, 74.75, 79.17, 57.82, 53.82, 64.08, 71.71, 82.39, 54.55, 74.03, 94.4, 56.72, 79.48, 66.4, 98.55, 70.61, 99.03, 64.27, 73.89, 90.94, 59.32, 93.35, 65.89, 71.0, 63.06, 62.15, 58.16, 73.31, 89.8, 55.03, 66.4, 67.85, 63.46, 99.81, 50.92, 83.99, 86.17, 76.56, 93.85, 94.65, 80.8, 77.96, 51.23, 81.39, 83.07, 76.02, 97.53, 70.18, 60.03, 90.02, 80.47, 79.23, 62.14, 63.77, 91.94, 72.99, 61.3, 73.75, 77.44, 95.52, 77.91, 56.23, 63.66]\n"
          ]
        }
      ]
    },
    {
      "cell_type": "code",
      "source": [
        "fabrica2= []\n",
        "for i in range(100):\n",
        "  numaleatorio2= round(random.uniform (50,100),2)\n",
        "  fabrica2.append(numaleatorio2)\n",
        "print(fabrica2)"
      ],
      "metadata": {
        "colab": {
          "base_uri": "https://localhost:8080/"
        },
        "id": "xiwHaP2gWdCH",
        "outputId": "0941603b-fa23-4729-bce3-4348d6dbc605"
      },
      "execution_count": 19,
      "outputs": [
        {
          "output_type": "stream",
          "name": "stdout",
          "text": [
            "[97.16, 89.87, 78.27, 93.97, 56.82, 96.97, 78.69, 59.44, 70.71, 94.35, 60.92, 98.07, 56.07, 53.78, 62.9, 97.6, 67.15, 54.68, 59.17, 89.82, 74.8, 54.35, 70.53, 62.23, 55.79, 81.45, 89.67, 69.79, 69.77, 94.44, 64.82, 73.38, 55.26, 56.62, 87.64, 69.16, 61.44, 97.71, 78.09, 74.7, 77.3, 95.44, 50.42, 98.61, 58.72, 97.42, 90.53, 70.32, 90.62, 76.83, 99.56, 80.15, 62.3, 58.87, 93.13, 56.76, 81.82, 51.46, 56.69, 75.67, 73.53, 70.07, 65.12, 76.31, 87.79, 52.38, 87.17, 98.68, 89.95, 50.75, 92.28, 96.04, 57.33, 80.82, 81.53, 65.83, 56.78, 65.64, 51.73, 84.87, 89.58, 69.0, 99.58, 88.83, 78.67, 55.31, 89.77, 58.86, 90.0, 97.46, 57.58, 79.85, 54.59, 82.36, 55.91, 66.66, 64.67, 59.71, 98.0, 65.75]\n"
          ]
        }
      ]
    },
    {
      "cell_type": "code",
      "source": [
        "#Librería de Python para graficar valores.\n",
        "import matplotlib.pyplot as plt\n",
        "\n",
        "#\"as plt\", es el alias que le dimos debido a que el nombre de la libreria es muy extenso"
      ],
      "metadata": {
        "id": "XpkHThAxaPwq"
      },
      "execution_count": 21,
      "outputs": []
    },
    {
      "cell_type": "code",
      "source": [
        "plt.hist(fabrica1)  #.hist de histograma, o mejor dicho gráfica.\n",
        "plt.title(\"Producción diaria de la Fábrica 1\")"
      ],
      "metadata": {
        "colab": {
          "base_uri": "https://localhost:8080/",
          "height": 469
        },
        "id": "xaS0WoOaam5t",
        "outputId": "6dbefee0-85ad-4d3a-8f40-357f3f7aa5cc"
      },
      "execution_count": 23,
      "outputs": [
        {
          "output_type": "execute_result",
          "data": {
            "text/plain": [
              "Text(0.5, 1.0, 'Producción diaria de la Fábrica 1')"
            ]
          },
          "metadata": {},
          "execution_count": 23
        },
        {
          "output_type": "display_data",
          "data": {
            "text/plain": [
              "<Figure size 640x480 with 1 Axes>"
            ],
            "image/png": "[encoded data removed]"
          },
          "metadata": {}
        }
      ]
    },
    {
      "cell_type": "code",
      "source": [
        "plt.hist(fabrica2)  #.hist de histograma\n",
        "plt.title(\"Producción diaria de la Fábrica 2\")"
      ],
      "metadata": {
        "colab": {
          "base_uri": "https://localhost:8080/",
          "height": 469
        },
        "id": "XQfTtL8gcOWj",
        "outputId": "c9c33169-d96c-458a-8c0f-627b222e665e"
      },
      "execution_count": 24,
      "outputs": [
        {
          "output_type": "execute_result",
          "data": {
            "text/plain": [
              "Text(0.5, 1.0, 'Producción diaria de la Fábrica 2')"
            ]
          },
          "metadata": {},
          "execution_count": 24
        },
        {
          "output_type": "display_data",
          "data": {
            "text/plain": [
              "<Figure size 640x480 with 1 Axes>"
            ],
            "image/png": "[encoded data removed]"
          },
          "metadata": {}
        }
      ]
    },
    {
      "cell_type": "code",
      "source": [
        "media=mean(fabrica1)\n",
        "mediana=median(fabrica1)\n",
        "moda=mode(fabrica1)\n",
        "print(\"Valores de la Fábrica 1\")\n",
        "print(\"La media es igual a\",media)\n",
        "print(\"La mediana es igual a\",mediana)\n",
        "print(\"La moda es igual a\",moda)\n"
      ],
      "metadata": {
        "colab": {
          "base_uri": "https://localhost:8080/"
        },
        "id": "NTanHycGdPk-",
        "outputId": "875599c9-15d0-4131-e24b-25123982d4c6"
      },
      "execution_count": 27,
      "outputs": [
        {
          "output_type": "stream",
          "name": "stdout",
          "text": [
            "Valores de la Fábrica 1\n",
            "La media es igual a 74.131\n",
            "La mediana es igual a 73.61500000000001\n",
            "La moda es igual a 66.4\n"
          ]
        }
      ]
    },
    {
      "cell_type": "code",
      "source": [
        "media=mean(fabrica2)\n",
        "mediana=median(fabrica2)\n",
        "moda=mode(fabrica2)\n",
        "print(\"Valores de la Fábrica 2\")\n",
        "print(\"La media es igual a\",media)\n",
        "print(\"La mediana es igual a\",mediana)\n",
        "print(\"La moda es igual a\",moda)"
      ],
      "metadata": {
        "colab": {
          "base_uri": "https://localhost:8080/"
        },
        "id": "zgKFIGgle45P",
        "outputId": "e324707c-6113-488a-b96f-8c20a3695925"
      },
      "execution_count": 28,
      "outputs": [
        {
          "output_type": "stream",
          "name": "stdout",
          "text": [
            "Valores de la Fábrica 2\n",
            "La media es igual a 74.6741\n",
            "La mediana es igual a 74.11500000000001\n",
            "La moda es igual a 97.16\n"
          ]
        }
      ]
    },
    {
      "cell_type": "code",
      "source": [
        "#Generar dos subplots de 1 renglón por dos columnas para desplegar los dos histogramas, una al lado de la otra.\n",
        "fig,(ax1,ax2)=plt.subplots(nrows=1,ncols=2 , figsize=(10,5)) #subplot sirve para poner el area de trazado de nuestros gráficos.\n",
        "ax1.hist(fabrica1)\n",
        "ax2.hist(fabrica2)\n",
        "plt.show()"
      ],
      "metadata": {
        "colab": {
          "base_uri": "https://localhost:8080/",
          "height": 445
        },
        "id": "2XhI_O_vfX3d",
        "outputId": "49712c80-bb06-4c23-efc9-d117d8170b86"
      },
      "execution_count": 32,
      "outputs": [
        {
          "output_type": "display_data",
          "data": {
            "text/plain": [
              "<Figure size 1000x500 with 2 Axes>"
            ],
            "image/png": "[encoded data removed]"
          },
          "metadata": {}
        }
      ]
    },
    {
      "cell_type": "code",
      "source": [
        "#Valor mínimo, máximo, rango.\n",
        "media1=mean(fabrica1)\n",
        "mediana1=median(fabrica1)\n",
        "moda1=mode(fabrica1)\n"
      ],
      "metadata": {
        "id": "0sX1wwrOiM1Q"
      },
      "execution_count": 34,
      "outputs": []
    },
    {
      "cell_type": "code",
      "source": [
        "plt.hist(fabrica1, bins=20, alpha=0.4, color='b', edgecolor=\"black\")\n",
        "plt.axvline(media1, color='b', linestyle='dashed', linewidth=2, label='Media')\n",
        "plt.axvline(mediana1, color='r', linestyle='dashed', linewidth=2, label='Mediana')\n",
        "plt.axvline(moda1, color='y', linestyle='dashed', linewidth=2, label='Moda')\n",
        "plt.xlabel('Valor')\n",
        "plt.ylabel('Frecuencia')\n",
        "plt.title(\"Producción diaria de la Fábrica 1\")\n",
        "plt.legend()\n",
        "plt.show()\n",
        "#bins son los rangos de separación de los histogramas.\n",
        "#legend es el cuadrito de la esquina."
      ],
      "metadata": {
        "colab": {
          "base_uri": "https://localhost:8080/",
          "height": 472
        },
        "id": "vLunyLSuhQg_",
        "outputId": "09600e62-c6cf-497b-e758-0f511315654b"
      },
      "execution_count": 40,
      "outputs": [
        {
          "output_type": "display_data",
          "data": {
            "text/plain": [
              "<Figure size 640x480 with 1 Axes>"
            ],
            "image/png": "[encoded data removed]"
          },
          "metadata": {}
        }
      ]
    },
    {
      "cell_type": "code",
      "source": [
        "media2=mean(fabrica2)\n",
        "mediana2=median(fabrica2)\n",
        "moda2=mode(fabrica2)\n",
        "\n",
        "\n",
        "plt.hist(fabrica2, bins=10, alpha=0.4, color='b', edgecolor=\"black\")\n",
        "plt.axvline(media1, color='b', linestyle='dashed', linewidth=2, label='Media')\n",
        "plt.axvline(mediana1, color='r', linestyle='dashed', linewidth=2, label='Mediana')\n",
        "plt.axvline(moda1, color='y', linestyle='dashed', linewidth=2, label='Moda')\n",
        "plt.xlabel('Valor')\n",
        "plt.ylabel('Frecuencia')\n",
        "plt.title(\"Producción diaria de la Fábrica 2\")\n",
        "plt.legend()\n",
        "plt.show()"
      ],
      "metadata": {
        "colab": {
          "base_uri": "https://localhost:8080/",
          "height": 472
        },
        "id": "_yngYhQPlNpx",
        "outputId": "bc00bf96-82a1-4569-bf22-3ac3e7beb205"
      },
      "execution_count": 38,
      "outputs": [
        {
          "output_type": "display_data",
          "data": {
            "text/plain": [
              "<Figure size 640x480 with 1 Axes>"
            ],
            "image/png": "[encoded data removed]"
          },
          "metadata": {}
        }
      ]
    }
  ]
}